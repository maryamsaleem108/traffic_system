{
  "nbformat": 4,
  "nbformat_minor": 0,
  "metadata": {
    "anaconda-cloud": {},
    "kernelspec": {
      "name": "python3",
      "display_name": "Python 3"
    },
    "colab": {
      "name": "TLCS.ipynb",
      "provenance": [],
      "gpuType": "V28"
    },
    "accelerator": "TPU"
  },
  "cells": [
    {
      "cell_type": "markdown",
      "metadata": {
        "id": "nhde1biSjajW"
      },
      "source": [
        "# **Setup for TLCS**"
      ]
    },
    {
      "cell_type": "code",
      "metadata": {
        "id": "VZZSh853VCpT",
        "outputId": "60d2e392-0b59-4941-8b77-e03cf1ff94ce",
        "colab": {
          "base_uri": "https://localhost:8080/"
        }
      },
      "source": [
        "!pwd\n",
        "!ls\n",
        "!rm -r *\n",
        "!ls"
      ],
      "execution_count": 1,
      "outputs": [
        {
          "output_type": "stream",
          "name": "stdout",
          "text": [
            "/content\n",
            "sample_data\n"
          ]
        }
      ]
    },
    {
      "cell_type": "code",
      "metadata": {
        "id": "GA53_oDvE8eN",
        "outputId": "fbf94635-7bed-4d69-b413-25a481d4dfc0",
        "colab": {
          "base_uri": "https://localhost:8080/"
        }
      },
      "source": [
        "!git clone \"https://github.com/AndreaVidali/Deep-QLearning-Agent-for-Traffic-Signal-Control\""
      ],
      "execution_count": 2,
      "outputs": [
        {
          "output_type": "stream",
          "name": "stdout",
          "text": [
            "Cloning into 'Deep-QLearning-Agent-for-Traffic-Signal-Control'...\n",
            "remote: Enumerating objects: 193, done.\u001b[K\n",
            "remote: Counting objects: 100% (46/46), done.\u001b[K\n",
            "remote: Compressing objects: 100% (22/22), done.\u001b[K\n",
            "remote: Total 193 (delta 27), reused 24 (delta 24), pack-reused 147 (from 1)\u001b[K\n",
            "Receiving objects: 100% (193/193), 173.27 KiB | 4.03 MiB/s, done.\n",
            "Resolving deltas: 100% (96/96), done.\n"
          ]
        }
      ]
    },
    {
      "cell_type": "code",
      "metadata": {
        "id": "ZzlPMXYpFXi9"
      },
      "source": [
        "!mv /content/Deep-QLearning-Agent-for-Traffic-Signal-Control/TLCS/* /content/\n",
        "!rm -r Deep-QLearning-Agent-for-Traffic-Signal-Control"
      ],
      "execution_count": 3,
      "outputs": []
    },
    {
      "cell_type": "code",
      "metadata": {
        "id": "MVyz7OCYpA85",
        "outputId": "0325d9da-f936-4210-b584-876872b32a6d",
        "colab": {
          "base_uri": "https://localhost:8080/"
        }
      },
      "source": [
        "!ls -l"
      ],
      "execution_count": 4,
      "outputs": [
        {
          "output_type": "stream",
          "name": "stdout",
          "text": [
            "total 72\n",
            "-rw-r--r-- 1 root root  5157 May  9 19:20 generator.py\n",
            "drwxr-xr-x 2 root root  4096 May  9 19:20 intersection\n",
            "-rw-r--r-- 1 root root   978 May  9 19:20 memory.py\n",
            "-rw-r--r-- 1 root root  3312 May  9 19:20 model.py\n",
            "-rw-r--r-- 1 root root  1752 May  9 19:20 testing_main.py\n",
            "-rw-r--r-- 1 root root   258 May  9 19:20 testing_settings.ini\n",
            "-rw-r--r-- 1 root root  8692 May  9 19:20 testing_simulation.py\n",
            "-rw-r--r-- 1 root root  2794 May  9 19:20 training_main.py\n",
            "-rw-r--r-- 1 root root   414 May  9 19:20 training_settings.ini\n",
            "-rw-r--r-- 1 root root 11990 May  9 19:20 training_simulation.py\n",
            "-rw-r--r-- 1 root root  4658 May  9 19:20 utils.py\n",
            "-rw-r--r-- 1 root root  1006 May  9 19:20 visualization.py\n"
          ]
        }
      ]
    },
    {
      "cell_type": "code",
      "metadata": {
        "id": "8zjb7bq_jrSp",
        "outputId": "1699a9fa-3492-4702-c19a-cb0190f28eb5",
        "colab": {
          "base_uri": "https://localhost:8080/"
        }
      },
      "source": [
        "!python --version"
      ],
      "execution_count": 5,
      "outputs": [
        {
          "output_type": "stream",
          "name": "stdout",
          "text": [
            "Python 3.11.12\n"
          ]
        }
      ]
    },
    {
      "cell_type": "markdown",
      "metadata": {
        "id": "CZ0Ptg7fkXrY"
      },
      "source": [
        "Installing **SUMO TraCI**"
      ]
    },
    {
      "cell_type": "code",
      "metadata": {
        "id": "3Oqs5WNyVpco",
        "outputId": "15562319-6687-426c-9bfd-4f062d1a486c",
        "colab": {
          "base_uri": "https://localhost:8080/"
        }
      },
      "source": [
        "!add-apt-repository ppa:sumo/stable -y\n",
        "!apt-get update -y\n",
        "!apt-get install sumo sumo-tools sumo-doc"
      ],
      "execution_count": 6,
      "outputs": [
        {
          "output_type": "stream",
          "name": "stdout",
          "text": [
            "Repository: 'deb https://ppa.launchpadcontent.net/sumo/stable/ubuntu/ jammy main'\n",
            "Description:\n",
            "SUMO is a highly portable, microscopic traffic simulation package designed to handle large road networks. SUMO is open source, licensed under the EPLv2.\n",
            "More info: https://launchpad.net/~sumo/+archive/ubuntu/stable\n",
            "Adding repository.\n",
            "Adding deb entry to /etc/apt/sources.list.d/sumo-ubuntu-stable-jammy.list\n",
            "Adding disabled deb-src entry to /etc/apt/sources.list.d/sumo-ubuntu-stable-jammy.list\n",
            "Adding key to /etc/apt/trusted.gpg.d/sumo-ubuntu-stable.gpg with fingerprint 7604B28616B7E70EC0E6D840C32412BB1ADB414B\n",
            "Hit:1 https://developer.download.nvidia.com/compute/cuda/repos/ubuntu2204/x86_64  InRelease\n",
            "Get:2 https://cloud.r-project.org/bin/linux/ubuntu jammy-cran40/ InRelease [3,632 B]\n",
            "Get:3 https://r2u.stat.illinois.edu/ubuntu jammy InRelease [6,555 B]\n",
            "Get:4 http://security.ubuntu.com/ubuntu jammy-security InRelease [129 kB]\n",
            "Hit:5 http://archive.ubuntu.com/ubuntu jammy InRelease\n",
            "Get:6 http://archive.ubuntu.com/ubuntu jammy-updates InRelease [128 kB]\n",
            "Hit:7 https://ppa.launchpadcontent.net/deadsnakes/ppa/ubuntu jammy InRelease\n",
            "Hit:8 https://ppa.launchpadcontent.net/graphics-drivers/ppa/ubuntu jammy InRelease\n",
            "Get:9 https://r2u.stat.illinois.edu/ubuntu jammy/main all Packages [8,926 kB]\n",
            "Get:10 https://ppa.launchpadcontent.net/sumo/stable/ubuntu jammy InRelease [18.3 kB]\n",
            "Get:11 http://archive.ubuntu.com/ubuntu jammy-backports InRelease [127 kB]\n",
            "Hit:12 https://ppa.launchpadcontent.net/ubuntugis/ppa/ubuntu jammy InRelease\n",
            "Get:13 https://r2u.stat.illinois.edu/ubuntu jammy/main amd64 Packages [2,720 kB]\n",
            "Get:14 http://security.ubuntu.com/ubuntu jammy-security/universe amd64 Packages [1,245 kB]\n",
            "Get:15 http://security.ubuntu.com/ubuntu jammy-security/main amd64 Packages [2,901 kB]\n",
            "Get:16 http://archive.ubuntu.com/ubuntu jammy-updates/universe amd64 Packages [1,546 kB]\n",
            "Get:17 http://archive.ubuntu.com/ubuntu jammy-updates/main amd64 Packages [3,211 kB]\n",
            "Get:18 https://ppa.launchpadcontent.net/sumo/stable/ubuntu jammy/main amd64 Packages [915 B]\n",
            "Fetched 21.0 MB in 4s (5,575 kB/s)\n",
            "Reading package lists... Done\n",
            "W: Skipping acquire of configured file 'main/source/Sources' as repository 'https://r2u.stat.illinois.edu/ubuntu jammy InRelease' does not seem to provide it (sources.list entry misspelt?)\n",
            "Hit:1 https://developer.download.nvidia.com/compute/cuda/repos/ubuntu2204/x86_64  InRelease\n",
            "Hit:2 https://cloud.r-project.org/bin/linux/ubuntu jammy-cran40/ InRelease\n",
            "Hit:3 http://security.ubuntu.com/ubuntu jammy-security InRelease\n",
            "Hit:4 http://archive.ubuntu.com/ubuntu jammy InRelease\n",
            "Hit:5 https://r2u.stat.illinois.edu/ubuntu jammy InRelease\n",
            "Hit:6 http://archive.ubuntu.com/ubuntu jammy-updates InRelease\n",
            "Hit:7 http://archive.ubuntu.com/ubuntu jammy-backports InRelease\n",
            "Hit:8 https://ppa.launchpadcontent.net/deadsnakes/ppa/ubuntu jammy InRelease\n",
            "Hit:9 https://ppa.launchpadcontent.net/graphics-drivers/ppa/ubuntu jammy InRelease\n",
            "Hit:10 https://ppa.launchpadcontent.net/sumo/stable/ubuntu jammy InRelease\n",
            "Hit:11 https://ppa.launchpadcontent.net/ubuntugis/ppa/ubuntu jammy InRelease\n",
            "Reading package lists... Done\n",
            "W: Skipping acquire of configured file 'main/source/Sources' as repository 'https://r2u.stat.illinois.edu/ubuntu jammy InRelease' does not seem to provide it (sources.list entry misspelt?)\n",
            "Reading package lists... Done\n",
            "Building dependency tree... Done\n",
            "Reading state information... Done\n",
            "The following additional packages will be installed:\n",
            "  binfmt-support fastjar jarwrapper javascript-common libfox-1.6-0 libgdal30\n",
            "  libglu1-mesa libjs-openlayers libproj22 libspatialindex-c6\n",
            "  libspatialindex-dev libspatialindex6 proj-bin python3-certifi python3-numpy\n",
            "  python3-pyproj python3-rtree\n",
            "Suggested packages:\n",
            "  apache2 | lighttpd | httpd python-numpy-doc python3-pytest\n",
            "The following NEW packages will be installed:\n",
            "  binfmt-support fastjar jarwrapper javascript-common libfox-1.6-0 libgdal30\n",
            "  libglu1-mesa libjs-openlayers libproj22 libspatialindex-c6\n",
            "  libspatialindex-dev libspatialindex6 proj-bin python3-certifi python3-numpy\n",
            "  python3-pyproj python3-rtree sumo sumo-doc sumo-tools\n",
            "0 upgraded, 20 newly installed, 0 to remove and 34 not upgraded.\n",
            "Need to get 150 MB of archives.\n",
            "After this operation, 694 MB of additional disk space will be used.\n",
            "Get:1 http://archive.ubuntu.com/ubuntu jammy/main amd64 binfmt-support amd64 2.2.1-2 [55.8 kB]\n",
            "Get:2 https://ppa.launchpadcontent.net/ubuntugis/ppa/ubuntu jammy/main amd64 libgdal30 amd64 3.4.3+dfsg-1~jammy0 [7,953 kB]\n",
            "Get:3 http://archive.ubuntu.com/ubuntu jammy/universe amd64 fastjar amd64 2:0.98-7 [67.1 kB]\n",
            "Get:4 http://archive.ubuntu.com/ubuntu jammy/universe amd64 jarwrapper all 0.78 [10.8 kB]\n",
            "Get:5 http://archive.ubuntu.com/ubuntu jammy/main amd64 javascript-common all 11+nmu1 [5,936 B]\n",
            "Get:6 http://archive.ubuntu.com/ubuntu jammy/main amd64 libglu1-mesa amd64 9.0.2-1 [145 kB]\n",
            "Get:7 http://archive.ubuntu.com/ubuntu jammy/universe amd64 libfox-1.6-0 amd64 1.6.57-1build1 [890 kB]\n",
            "Get:8 http://archive.ubuntu.com/ubuntu jammy/universe amd64 libproj22 amd64 8.2.1-1 [1,257 kB]\n",
            "Get:9 http://archive.ubuntu.com/ubuntu jammy/universe amd64 libspatialindex6 amd64 1.9.3-2 [247 kB]\n",
            "Get:10 http://archive.ubuntu.com/ubuntu jammy/universe amd64 libspatialindex-c6 amd64 1.9.3-2 [55.8 kB]\n",
            "Get:11 http://archive.ubuntu.com/ubuntu jammy/main amd64 python3-certifi all 2020.6.20-1 [150 kB]\n",
            "Get:12 http://archive.ubuntu.com/ubuntu jammy-updates/main amd64 python3-numpy amd64 1:1.21.5-1ubuntu22.04.1 [3,467 kB]\n",
            "Get:13 http://archive.ubuntu.com/ubuntu jammy/universe amd64 libspatialindex-dev amd64 1.9.3-2 [16.0 kB]\n",
            "Get:14 http://archive.ubuntu.com/ubuntu jammy/universe amd64 python3-rtree all 0.9.7-1 [46.4 kB]\n",
            "Get:15 http://archive.ubuntu.com/ubuntu jammy/universe amd64 libjs-openlayers all 2.13.1+ds2-8 [709 kB]\n",
            "Get:16 https://ppa.launchpadcontent.net/ubuntugis/ppa/ubuntu jammy/main amd64 proj-bin amd64 9.1.1-1~jammy0 [197 kB]\n",
            "Get:17 https://ppa.launchpadcontent.net/ubuntugis/ppa/ubuntu jammy/main amd64 python3-pyproj amd64 3.4.0-2~jammy0 [325 kB]\n",
            "Get:18 https://ppa.launchpadcontent.net/sumo/stable/ubuntu jammy/main amd64 sumo amd64 1.23.1-1~jammy [37.3 MB]\n",
            "Get:19 https://ppa.launchpadcontent.net/sumo/stable/ubuntu jammy/main amd64 sumo-doc all 1.23.1-1~jammy [71.7 MB]\n",
            "Get:20 https://ppa.launchpadcontent.net/sumo/stable/ubuntu jammy/main amd64 sumo-tools all 1.23.1-1~jammy [25.2 MB]\n",
            "Fetched 150 MB in 5s (29.3 MB/s)\n",
            "Selecting previously unselected package binfmt-support.\n",
            "(Reading database ... 126102 files and directories currently installed.)\n",
            "Preparing to unpack .../00-binfmt-support_2.2.1-2_amd64.deb ...\n",
            "Unpacking binfmt-support (2.2.1-2) ...\n",
            "Selecting previously unselected package fastjar.\n",
            "Preparing to unpack .../01-fastjar_2%3a0.98-7_amd64.deb ...\n",
            "Unpacking fastjar (2:0.98-7) ...\n",
            "Selecting previously unselected package jarwrapper.\n",
            "Preparing to unpack .../02-jarwrapper_0.78_all.deb ...\n",
            "Unpacking jarwrapper (0.78) ...\n",
            "Selecting previously unselected package javascript-common.\n",
            "Preparing to unpack .../03-javascript-common_11+nmu1_all.deb ...\n",
            "Unpacking javascript-common (11+nmu1) ...\n",
            "Selecting previously unselected package libglu1-mesa:amd64.\n",
            "Preparing to unpack .../04-libglu1-mesa_9.0.2-1_amd64.deb ...\n",
            "Unpacking libglu1-mesa:amd64 (9.0.2-1) ...\n",
            "Selecting previously unselected package libfox-1.6-0:amd64.\n",
            "Preparing to unpack .../05-libfox-1.6-0_1.6.57-1build1_amd64.deb ...\n",
            "Unpacking libfox-1.6-0:amd64 (1.6.57-1build1) ...\n",
            "Selecting previously unselected package libproj22:amd64.\n",
            "Preparing to unpack .../06-libproj22_8.2.1-1_amd64.deb ...\n",
            "Unpacking libproj22:amd64 (8.2.1-1) ...\n",
            "Selecting previously unselected package libgdal30.\n",
            "Preparing to unpack .../07-libgdal30_3.4.3+dfsg-1~jammy0_amd64.deb ...\n",
            "Unpacking libgdal30 (3.4.3+dfsg-1~jammy0) ...\n",
            "Selecting previously unselected package libspatialindex6:amd64.\n",
            "Preparing to unpack .../08-libspatialindex6_1.9.3-2_amd64.deb ...\n",
            "Unpacking libspatialindex6:amd64 (1.9.3-2) ...\n",
            "Selecting previously unselected package libspatialindex-c6:amd64.\n",
            "Preparing to unpack .../09-libspatialindex-c6_1.9.3-2_amd64.deb ...\n",
            "Unpacking libspatialindex-c6:amd64 (1.9.3-2) ...\n",
            "Selecting previously unselected package proj-bin.\n",
            "Preparing to unpack .../10-proj-bin_9.1.1-1~jammy0_amd64.deb ...\n",
            "Unpacking proj-bin (9.1.1-1~jammy0) ...\n",
            "Selecting previously unselected package python3-certifi.\n",
            "Preparing to unpack .../11-python3-certifi_2020.6.20-1_all.deb ...\n",
            "Unpacking python3-certifi (2020.6.20-1) ...\n",
            "Selecting previously unselected package python3-numpy.\n",
            "Preparing to unpack .../12-python3-numpy_1%3a1.21.5-1ubuntu22.04.1_amd64.deb ...\n",
            "Unpacking python3-numpy (1:1.21.5-1ubuntu22.04.1) ...\n",
            "Selecting previously unselected package python3-pyproj.\n",
            "Preparing to unpack .../13-python3-pyproj_3.4.0-2~jammy0_amd64.deb ...\n",
            "Unpacking python3-pyproj (3.4.0-2~jammy0) ...\n",
            "Selecting previously unselected package libspatialindex-dev:amd64.\n",
            "Preparing to unpack .../14-libspatialindex-dev_1.9.3-2_amd64.deb ...\n",
            "Unpacking libspatialindex-dev:amd64 (1.9.3-2) ...\n",
            "Selecting previously unselected package python3-rtree.\n",
            "Preparing to unpack .../15-python3-rtree_0.9.7-1_all.deb ...\n",
            "Unpacking python3-rtree (0.9.7-1) ...\n",
            "Selecting previously unselected package sumo.\n",
            "Preparing to unpack .../16-sumo_1.23.1-1~jammy_amd64.deb ...\n",
            "Unpacking sumo (1.23.1-1~jammy) ...\n",
            "Selecting previously unselected package sumo-doc.\n",
            "Preparing to unpack .../17-sumo-doc_1.23.1-1~jammy_all.deb ...\n",
            "Unpacking sumo-doc (1.23.1-1~jammy) ...\n",
            "Selecting previously unselected package libjs-openlayers.\n",
            "Preparing to unpack .../18-libjs-openlayers_2.13.1+ds2-8_all.deb ...\n",
            "Unpacking libjs-openlayers (2.13.1+ds2-8) ...\n",
            "Selecting previously unselected package sumo-tools.\n",
            "Preparing to unpack .../19-sumo-tools_1.23.1-1~jammy_all.deb ...\n",
            "Unpacking sumo-tools (1.23.1-1~jammy) ...\n",
            "Setting up fastjar (2:0.98-7) ...\n",
            "Setting up javascript-common (11+nmu1) ...\n",
            "Setting up proj-bin (9.1.1-1~jammy0) ...\n",
            "Setting up libspatialindex6:amd64 (1.9.3-2) ...\n",
            "Setting up libproj22:amd64 (8.2.1-1) ...\n",
            "Setting up sumo-doc (1.23.1-1~jammy) ...\n",
            "Setting up libgdal30 (3.4.3+dfsg-1~jammy0) ...\n",
            "Setting up python3-certifi (2020.6.20-1) ...\n",
            "Setting up binfmt-support (2.2.1-2) ...\n",
            "invoke-rc.d: could not determine current runlevel\n",
            "invoke-rc.d: policy-rc.d denied execution of restart.\n",
            "Created symlink /etc/systemd/system/multi-user.target.wants/binfmt-support.service → /lib/systemd/system/binfmt-support.service.\n",
            "Setting up python3-numpy (1:1.21.5-1ubuntu22.04.1) ...\n",
            "Setting up libjs-openlayers (2.13.1+ds2-8) ...\n",
            "Setting up libglu1-mesa:amd64 (9.0.2-1) ...\n",
            "Setting up libfox-1.6-0:amd64 (1.6.57-1build1) ...\n",
            "Setting up sumo (1.23.1-1~jammy) ...\n",
            "Setting up libspatialindex-c6:amd64 (1.9.3-2) ...\n",
            "Setting up jarwrapper (0.78) ...\n",
            "Setting up libspatialindex-dev:amd64 (1.9.3-2) ...\n",
            "Setting up python3-pyproj (3.4.0-2~jammy0) ...\n",
            "Setting up python3-rtree (0.9.7-1) ...\n",
            "Setting up sumo-tools (1.23.1-1~jammy) ...\n",
            "Processing triggers for man-db (2.10.2-1) ...\n",
            "Processing triggers for mailcap (3.70+nmu1ubuntu1) ...\n",
            "Processing triggers for libc-bin (2.35-0ubuntu3.8) ...\n",
            "/sbin/ldconfig.real: /usr/local/lib/libtbbbind_2_0.so.3 is not a symbolic link\n",
            "\n",
            "/sbin/ldconfig.real: /usr/local/lib/libumf.so.0 is not a symbolic link\n",
            "\n",
            "/sbin/ldconfig.real: /usr/local/lib/libtbbbind.so.3 is not a symbolic link\n",
            "\n",
            "/sbin/ldconfig.real: /usr/local/lib/libur_adapter_opencl.so.0 is not a symbolic link\n",
            "\n",
            "/sbin/ldconfig.real: /usr/local/lib/libhwloc.so.15 is not a symbolic link\n",
            "\n",
            "/sbin/ldconfig.real: /usr/local/lib/libur_adapter_level_zero.so.0 is not a symbolic link\n",
            "\n",
            "/sbin/ldconfig.real: /usr/local/lib/libtbbmalloc.so.2 is not a symbolic link\n",
            "\n",
            "/sbin/ldconfig.real: /usr/local/lib/libtcm_debug.so.1 is not a symbolic link\n",
            "\n",
            "/sbin/ldconfig.real: /usr/local/lib/libtcm.so.1 is not a symbolic link\n",
            "\n",
            "/sbin/ldconfig.real: /usr/local/lib/libur_loader.so.0 is not a symbolic link\n",
            "\n",
            "/sbin/ldconfig.real: /usr/local/lib/libtbbbind_2_5.so.3 is not a symbolic link\n",
            "\n",
            "/sbin/ldconfig.real: /usr/local/lib/libtbbmalloc_proxy.so.2 is not a symbolic link\n",
            "\n",
            "/sbin/ldconfig.real: /usr/local/lib/libtbb.so.12 is not a symbolic link\n",
            "\n"
          ]
        }
      ]
    },
    {
      "cell_type": "code",
      "metadata": {
        "id": "AkoK63N3mR4E",
        "outputId": "a43c98bb-6e94-4818-ef47-28c11f5957f9",
        "colab": {
          "base_uri": "https://localhost:8080/"
        }
      },
      "source": [
        "!pip install traci"
      ],
      "execution_count": 7,
      "outputs": [
        {
          "output_type": "stream",
          "name": "stdout",
          "text": [
            "Collecting traci\n",
            "  Downloading traci-1.23.1-py3-none-any.whl.metadata (3.2 kB)\n",
            "Collecting sumolib>=1.23.1 (from traci)\n",
            "  Downloading sumolib-1.23.1-py3-none-any.whl.metadata (2.6 kB)\n",
            "Downloading traci-1.23.1-py3-none-any.whl (277 kB)\n",
            "\u001b[2K   \u001b[90m━━━━━━━━━━━━━━━━━━━━━━━━━━━━━━━━━━━━━━━━\u001b[0m \u001b[32m277.2/277.2 kB\u001b[0m \u001b[31m4.5 MB/s\u001b[0m eta \u001b[36m0:00:00\u001b[0m\n",
            "\u001b[?25hDownloading sumolib-1.23.1-py3-none-any.whl (276 kB)\n",
            "\u001b[2K   \u001b[90m━━━━━━━━━━━━━━━━━━━━━━━━━━━━━━━━━━━━━━━━\u001b[0m \u001b[32m277.0/277.0 kB\u001b[0m \u001b[31m14.0 MB/s\u001b[0m eta \u001b[36m0:00:00\u001b[0m\n",
            "\u001b[?25hInstalling collected packages: sumolib, traci\n",
            "Successfully installed sumolib-1.23.1 traci-1.23.1\n"
          ]
        }
      ]
    },
    {
      "cell_type": "code",
      "metadata": {
        "id": "s-6v3Jk1oxwE"
      },
      "source": [
        "import os\n",
        "os.environ['SUMO_HOME'] = \"/usr/share/sumo/\""
      ],
      "execution_count": 8,
      "outputs": []
    },
    {
      "cell_type": "markdown",
      "metadata": {
        "id": "ebzkYv4_klSV"
      },
      "source": [
        "**Starting Training Process**"
      ]
    },
    {
      "cell_type": "code",
      "metadata": {
        "id": "b2ACqSSajWoT",
        "outputId": "a3f18486-8d50-49fd-e7af-23c029a54b4e",
        "colab": {
          "base_uri": "https://localhost:8080/"
        }
      },
      "source": [
        "!python training_main.py"
      ],
      "execution_count": 9,
      "outputs": [
        {
          "output_type": "stream",
          "name": "stdout",
          "text": [
            "2025-05-09 19:23:56.272046: E external/local_xla/xla/stream_executor/cuda/cuda_fft.cc:477] Unable to register cuFFT factory: Attempting to register factory for plugin cuFFT when one has already been registered\n",
            "WARNING: All log messages before absl::InitializeLog() is called are written to STDERR\n",
            "E0000 00:00:1746818636.297281    4242 cuda_dnn.cc:8310] Unable to register cuDNN factory: Attempting to register factory for plugin cuDNN when one has already been registered\n",
            "E0000 00:00:1746818636.304574    4242 cuda_blas.cc:1418] Unable to register cuBLAS factory: Attempting to register factory for plugin cuBLAS when one has already been registered\n",
            "2025-05-09 19:24:01.996159: E external/local_xla/xla/stream_executor/cuda/cuda_driver.cc:152] failed call to cuInit: INTERNAL: CUDA error: Failed call to cuInit: UNKNOWN ERROR (303)\n",
            "Traceback (most recent call last):\n",
            "  File \"/content/training_main.py\", line 22, in <module>\n",
            "    Model = TrainModel(\n",
            "            ^^^^^^^^^^^\n",
            "  File \"/content/model.py\", line 21, in __init__\n",
            "    self._model = self._build_model(num_layers, width)\n",
            "                  ^^^^^^^^^^^^^^^^^^^^^^^^^^^^^^^^^^^^\n",
            "  File \"/content/model.py\", line 35, in _build_model\n",
            "    model.compile(loss=losses.mean_squared_error, optimizer=Adam(lr=self._learning_rate))\n",
            "                       ^^^^^^^^^^^^^^^^^^^^^^^^^\n",
            "AttributeError: module 'keras._tf_keras.keras.losses' has no attribute 'mean_squared_error'. Did you mean: 'MeanSquaredError'?\n"
          ]
        }
      ]
    },
    {
      "cell_type": "markdown",
      "metadata": {
        "id": "EoyQMaWXkyu1"
      },
      "source": [
        "Check the */models/* directory for output files"
      ]
    }
  ]
}